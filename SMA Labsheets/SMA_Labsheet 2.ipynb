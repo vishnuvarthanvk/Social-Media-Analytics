{
 "cells": [
  {
   "cell_type": "markdown",
   "id": "ceeffbe7",
   "metadata": {},
   "source": [
    "# 225229147"
   ]
  },
  {
   "cell_type": "markdown",
   "id": "6a8bbd0b",
   "metadata": {},
   "source": [
    "# Lab 2 : Querying user’s connection information using Facebook Graph API and retrieving feed and engagement"
   ]
  },
  {
   "cell_type": "markdown",
   "id": "65c9ca2c",
   "metadata": {},
   "source": [
    "#### step 1"
   ]
  },
  {
   "cell_type": "code",
   "execution_count": 4,
   "id": "a77bb4c0",
   "metadata": {},
   "outputs": [],
   "source": [
    "ACCESS_TOKEN=\"EAAinFHBcDuMBAKn6UCYdlqdrOC7TSDcyXcTgeYEJAodaMZAfRlh8eLLT13f4yZBgAILsMNhYGZCKOL8okcDRpIHHuFEO3gDEDAjlur47SnA8pNkZCIaJSwwrvKRW3sbwutTgiLZCAUJzYgl2WzLMrZAaEjZCeQc0O8hHADz6lGDuZBkA9wRfg8DmrUSikepMGZAPRMgZBE74WIt35qsJqn3BRmNJi7OZBO4KZCtE10Ka8SGiekF2jGAVIShAJ3EcTKgW6zAZD\""
   ]
  },
  {
   "cell_type": "markdown",
   "id": "026c0f4a",
   "metadata": {},
   "source": [
    "#### step 2"
   ]
  },
  {
   "cell_type": "code",
   "execution_count": 5,
   "id": "c5b19630",
   "metadata": {},
   "outputs": [],
   "source": [
    "import facebook #importing necessary modules\n",
    "import urllib3\n",
    "import requests\n",
    "import json"
   ]
  },
  {
   "cell_type": "markdown",
   "id": "8629d0b7",
   "metadata": {},
   "source": [
    "#### step 3"
   ]
  },
  {
   "cell_type": "code",
   "execution_count": 6,
   "id": "55809ee5",
   "metadata": {},
   "outputs": [
    {
     "name": "stdout",
     "output_type": "stream",
     "text": [
      "{\n",
      " \"name\": \"Vishnu VK\",\n",
      " \"id\": \"101032896412311\"\n",
      "}\n"
     ]
    }
   ],
   "source": [
    "def pp(o):\n",
    "    print(json.dumps(o,indent=1))\n",
    "g=facebook.GraphAPI(ACCESS_TOKEN,version='2.10')\n",
    "pp(g.get_object('me'))"
   ]
  },
  {
   "cell_type": "markdown",
   "id": "a019b81d",
   "metadata": {},
   "source": [
    "#### step 4"
   ]
  },
  {
   "cell_type": "code",
   "execution_count": 7,
   "id": "f17fcc87",
   "metadata": {},
   "outputs": [
    {
     "name": "stdout",
     "output_type": "stream",
     "text": [
      "{\n",
      " \"data\": [\n",
      "  {\n",
      "   \"name\": \"Bishop Heber College, Trichy\",\n",
      "   \"id\": \"268600136542262\",\n",
      "   \"created_time\": \"2023-07-19T06:31:15+0000\"\n",
      "  },\n",
      "  {\n",
      "   \"name\": \"Directorate Of Technical Education, Government Of Tamilnadu\",\n",
      "   \"id\": \"775641252498059\",\n",
      "   \"created_time\": \"2023-07-19T06:30:10+0000\"\n",
      "  },\n",
      "  {\n",
      "   \"name\": \"Government of Tamilnadu\",\n",
      "   \"id\": \"199151850807606\",\n",
      "   \"created_time\": \"2023-07-19T06:30:04+0000\"\n",
      "  },\n",
      "  {\n",
      "   \"name\": \"Press Information Bureau - PIB,  Government of India\",\n",
      "   \"id\": \"521441554662321\",\n",
      "   \"created_time\": \"2023-07-19T06:29:53+0000\"\n",
      "  }\n",
      " ],\n",
      " \"paging\": {\n",
      "  \"cursors\": {\n",
      "   \"before\": \"MjY4NjAwMTM2NTQyMjYy\",\n",
      "   \"after\": \"NTIxNDQxNTU0NjYyMzIx\"\n",
      "  }\n",
      " }\n",
      "}\n",
      "{\n",
      " \"data\": [],\n",
      " \"summary\": {\n",
      "  \"total_count\": 1\n",
      " }\n",
      "}\n",
      "{\n",
      " \"data\": [\n",
      "  {\n",
      "   \"created_time\": \"1997-04-18T07:00:00+0000\",\n",
      "   \"id\": \"101032896412311_100742643108003\"\n",
      "  }\n",
      " ],\n",
      " \"paging\": {\n",
      "  \"previous\": \"https://graph.facebook.com/v17.0/101032896412311/feed?access_token=EAAinFHBcDuMBAKn6UCYdlqdrOC7TSDcyXcTgeYEJAodaMZAfRlh8eLLT13f4yZBgAILsMNhYGZCKOL8okcDRpIHHuFEO3gDEDAjlur47SnA8pNkZCIaJSwwrvKRW3sbwutTgiLZCAUJzYgl2WzLMrZAaEjZCeQc0O8hHADz6lGDuZBkA9wRfg8DmrUSikepMGZAPRMgZBE74WIt35qsJqn3BRmNJi7OZBO4KZCtE10Ka8SGiekF2jGAVIShAJ3EcTKgW6zAZD&__previous=1&since=861346800&until&__paging_token=enc_AdBt5fEMJ4IzPq844ETps6QfDOtHRA6wTxhz6tu4csiX0m6H2ZA6ZAAejy5NZBCANcPw1qQtZBbj1xQKGI9VMu4q8p9FbGDVBb4WYUzPiwVz2nNZCOQZDZD\",\n",
      "  \"next\": \"https://graph.facebook.com/v17.0/101032896412311/feed?access_token=EAAinFHBcDuMBAKn6UCYdlqdrOC7TSDcyXcTgeYEJAodaMZAfRlh8eLLT13f4yZBgAILsMNhYGZCKOL8okcDRpIHHuFEO3gDEDAjlur47SnA8pNkZCIaJSwwrvKRW3sbwutTgiLZCAUJzYgl2WzLMrZAaEjZCeQc0O8hHADz6lGDuZBkA9wRfg8DmrUSikepMGZAPRMgZBE74WIt35qsJqn3BRmNJi7OZBO4KZCtE10Ka8SGiekF2jGAVIShAJ3EcTKgW6zAZD&until=861346800&since&__paging_token=enc_AdBt5fEMJ4IzPq844ETps6QfDOtHRA6wTxhz6tu4csiX0m6H2ZA6ZAAejy5NZBCANcPw1qQtZBbj1xQKGI9VMu4q8p9FbGDVBb4WYUzPiwVz2nNZCOQZDZD&__previous\"\n",
      " }\n",
      "}\n",
      "{\n",
      " \"data\": [\n",
      "  {\n",
      "   \"name\": \"Bishop Heber College, Trichy\",\n",
      "   \"id\": \"124827977605308\"\n",
      "  }\n",
      " ],\n",
      " \"paging\": {\n",
      "  \"cursors\": {\n",
      "   \"before\": \"QVFIUmFCbk4wZA21LbGVzZATBKZAGpLWXNvOWtvYVVneGVaaEdPVEZAmZAjMxQWY3bFNsUHpSX1BCeG04YkZAaQTFpTGFxT2pnN1lRbDV3My0zdHU2YnFrbDE3NnBB\",\n",
      "   \"after\": \"QVFIUmFCbk4wZA21LbGVzZATBKZAGpLWXNvOWtvYVVneGVaaEdPVEZAmZAjMxQWY3bFNsUHpSX1BCeG04YkZAaQTFpTGFxT2pnN1lRbDV3My0zdHU2YnFrbDE3NnBB\"\n",
      "  }\n",
      " }\n",
      "}\n"
     ]
    }
   ],
   "source": [
    "pp(g.get_connections(id='me',connection_name='likes')) #Printing the connections\n",
    "pp(g.get_connections(id='me',connection_name='friends'))\n",
    "pp(g.get_connections(id='me',connection_name='feed'))\n",
    "pp(g.get_connections(id='me',connection_name='groups'))"
   ]
  },
  {
   "cell_type": "markdown",
   "id": "3cd9978b",
   "metadata": {},
   "source": [
    "#### step 5"
   ]
  },
  {
   "cell_type": "code",
   "execution_count": 10,
   "id": "51c826cd",
   "metadata": {},
   "outputs": [
    {
     "name": "stdout",
     "output_type": "stream",
     "text": [
      "{\n",
      " \"data\": [\n",
      "  {\n",
      "   \"id\": \"101032896412311_100742643108003\"\n",
      "  }\n",
      " ],\n",
      " \"paging\": {\n",
      "  \"previous\": \"https://graph.facebook.com/v17.0/101032896412311/feed?access_token=EAAinFHBcDuMBAKn6UCYdlqdrOC7TSDcyXcTgeYEJAodaMZAfRlh8eLLT13f4yZBgAILsMNhYGZCKOL8okcDRpIHHuFEO3gDEDAjlur47SnA8pNkZCIaJSwwrvKRW3sbwutTgiLZCAUJzYgl2WzLMrZAaEjZCeQc0O8hHADz6lGDuZBkA9wRfg8DmrUSikepMGZAPRMgZBE74WIt35qsJqn3BRmNJi7OZBO4KZCtE10Ka8SGiekF2jGAVIShAJ3EcTKgW6zAZD&fields=information&__previous=1&since=861346800&until&__paging_token=enc_AdBt5fEMJ4IzPq844ETps6QfDOtHRA6wTxhz6tu4csiX0m6H2ZA6ZAAejy5NZBCANcPw1qQtZBbj1xQKGI9VMu4q8p9FbGDVBb4WYUzPiwVz2nNZCOQZDZD\",\n",
      "  \"next\": \"https://graph.facebook.com/v17.0/101032896412311/feed?access_token=EAAinFHBcDuMBAKn6UCYdlqdrOC7TSDcyXcTgeYEJAodaMZAfRlh8eLLT13f4yZBgAILsMNhYGZCKOL8okcDRpIHHuFEO3gDEDAjlur47SnA8pNkZCIaJSwwrvKRW3sbwutTgiLZCAUJzYgl2WzLMrZAaEjZCeQc0O8hHADz6lGDuZBkA9wRfg8DmrUSikepMGZAPRMgZBE74WIt35qsJqn3BRmNJi7OZBO4KZCtE10Ka8SGiekF2jGAVIShAJ3EcTKgW6zAZD&fields=information&until=861346800&since&__paging_token=enc_AdBt5fEMJ4IzPq844ETps6QfDOtHRA6wTxhz6tu4csiX0m6H2ZA6ZAAejy5NZBCANcPw1qQtZBbj1xQKGI9VMu4q8p9FbGDVBb4WYUzPiwVz2nNZCOQZDZD&__previous\"\n",
      " }\n",
      "}\n"
     ]
    }
   ],
   "source": [
    "feed_data = g.get_connections(id='me', connection_name='feed',fields='information')\n",
    "pp(feed_data)\n"
   ]
  },
  {
   "cell_type": "markdown",
   "id": "7ca679e3",
   "metadata": {},
   "source": [
    "#### step 6"
   ]
  },
  {
   "cell_type": "code",
   "execution_count": 18,
   "id": "278d0392",
   "metadata": {},
   "outputs": [
    {
     "name": "stdout",
     "output_type": "stream",
     "text": [
      "{\n",
      " \"data\": [\n",
      "  {\n",
      "   \"created_time\": \"2023-07-19T15:18:22+0000\",\n",
      "   \"description\": \"Feeling refreshed\",\n",
      "   \"id\": \"101032896412311_101043309744603\"\n",
      "  },\n",
      "  {\n",
      "   \"created_time\": \"2023-07-19T15:14:11+0000\",\n",
      "   \"id\": \"101032896412311_101039849744949\"\n",
      "  },\n",
      "  {\n",
      "   \"caption\": \"Born\",\n",
      "   \"created_time\": \"1997-04-18T07:00:00+0000\",\n",
      "   \"id\": \"101032896412311_100742643108003\"\n",
      "  }\n",
      " ],\n",
      " \"paging\": {\n",
      "  \"previous\": \"https://graph.facebook.com/v17.0/101032896412311/posts?access_token=EAAinFHBcDuMBAKn6UCYdlqdrOC7TSDcyXcTgeYEJAodaMZAfRlh8eLLT13f4yZBgAILsMNhYGZCKOL8okcDRpIHHuFEO3gDEDAjlur47SnA8pNkZCIaJSwwrvKRW3sbwutTgiLZCAUJzYgl2WzLMrZAaEjZCeQc0O8hHADz6lGDuZBkA9wRfg8DmrUSikepMGZAPRMgZBE74WIt35qsJqn3BRmNJi7OZBO4KZCtE10Ka8SGiekF2jGAVIShAJ3EcTKgW6zAZD&fields=caption%2Ccreated_time%2Cdescription&__previous=1&since=1689779902&until&__paging_token=enc_AdCHvvZCwZAdiZAGB1YaHyWBgEVn7geRP3d791SiDuEkX4Eln6mdbZBcmcDZB5lVR55LKWSuddnViM0ySU5BO4De6cbpW3HCkcmww88LMiw7xXxiHXQZDZD\",\n",
      "  \"next\": \"https://graph.facebook.com/v17.0/101032896412311/posts?access_token=EAAinFHBcDuMBAKn6UCYdlqdrOC7TSDcyXcTgeYEJAodaMZAfRlh8eLLT13f4yZBgAILsMNhYGZCKOL8okcDRpIHHuFEO3gDEDAjlur47SnA8pNkZCIaJSwwrvKRW3sbwutTgiLZCAUJzYgl2WzLMrZAaEjZCeQc0O8hHADz6lGDuZBkA9wRfg8DmrUSikepMGZAPRMgZBE74WIt35qsJqn3BRmNJi7OZBO4KZCtE10Ka8SGiekF2jGAVIShAJ3EcTKgW6zAZD&fields=caption%2Ccreated_time%2Cdescription&until=861346800&since&__paging_token=enc_AdBt5fEMJ4IzPq844ETps6QfDOtHRA6wTxhz6tu4csiX0m6H2ZA6ZAAejy5NZBCANcPw1qQtZBbj1xQKGI9VMu4q8p9FbGDVBb4WYUzPiwVz2nNZCOQZDZD&__previous\"\n",
      " }\n",
      "}\n"
     ]
    }
   ],
   "source": [
    "pp(g.get_connections(id='me', connection_name='posts', fields='caption,created_time,description'))"
   ]
  },
  {
   "cell_type": "code",
   "execution_count": null,
   "id": "c9ec187f",
   "metadata": {},
   "outputs": [],
   "source": []
  },
  {
   "cell_type": "code",
   "execution_count": null,
   "id": "869f2d87",
   "metadata": {},
   "outputs": [],
   "source": []
  }
 ],
 "metadata": {
  "kernelspec": {
   "display_name": "Python 3 (ipykernel)",
   "language": "python",
   "name": "python3"
  },
  "language_info": {
   "codemirror_mode": {
    "name": "ipython",
    "version": 3
   },
   "file_extension": ".py",
   "mimetype": "text/x-python",
   "name": "python",
   "nbconvert_exporter": "python",
   "pygments_lexer": "ipython3",
   "version": "3.9.12"
  }
 },
 "nbformat": 4,
 "nbformat_minor": 5
}
